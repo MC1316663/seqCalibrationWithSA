{
 "cells": [
  {
   "cell_type": "code",
   "execution_count": 14,
   "metadata": {},
   "outputs": [],
   "source": [
    "from ex import *"
   ]
  },
  {
   "cell_type": "code",
   "execution_count": 3,
   "metadata": {},
   "outputs": [
    {
     "name": "stdout",
     "output_type": "stream",
     "text": [
      "hello!\n"
     ]
    }
   ],
   "source": [
    "print(\"hello!\")"
   ]
  },
  {
   "cell_type": "code",
   "execution_count": 4,
   "metadata": {},
   "outputs": [
    {
     "data": {
      "text/plain": [
       "'note: How to make library\\n- cmd -> cd repository\\n- python setup.py bdist_wheel\\n- cd dist\\n- twine upload xxx.whl\\n\\n'"
      ]
     },
     "execution_count": 4,
     "metadata": {},
     "output_type": "execute_result"
    }
   ],
   "source": [
    "'''note: How to make library\n",
    "- cmd -> cd repository (C:\\Users\\MoongiChoi\\Desktop\\MG\\양식, 코드 등\\Python\\Sequential_Calibration_with_SA\\seqCalibrationWithSA)\n",
    "- python setup.py bdist_wheel\n",
    "- cd dist\n",
    "- twine upload xxx.whl\n",
    "\n",
    "- 업데이트시에는 setup.py -> 0.02로 하고 다시 위 과정 반복\n",
    "'''"
   ]
  },
  {
   "cell_type": "code",
   "execution_count": null,
   "metadata": {},
   "outputs": [],
   "source": []
  }
 ],
 "metadata": {
  "kernelspec": {
   "display_name": "Python 3",
   "language": "python",
   "name": "python3"
  },
  "language_info": {
   "codemirror_mode": {
    "name": "ipython",
    "version": 3
   },
   "file_extension": ".py",
   "mimetype": "text/x-python",
   "name": "python",
   "nbconvert_exporter": "python",
   "pygments_lexer": "ipython3",
   "version": "3.8.5"
  }
 },
 "nbformat": 4,
 "nbformat_minor": 4
}
