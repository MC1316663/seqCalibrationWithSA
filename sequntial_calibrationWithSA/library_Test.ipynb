{
 "cells": [
  {
   "cell_type": "code",
   "execution_count": 1,
   "metadata": {},
   "outputs": [
    {
     "name": "stdout",
     "output_type": "stream",
     "text": [
      "Collecting sequntial-calibrationWithSA\n",
      "  Downloading sequntial_calibrationWithSA-0.0.1-py3-none-any.whl (1.7 kB)\n",
      "Installing collected packages: sequntial-calibrationWithSA\n",
      "Successfully installed sequntial-calibrationWithSA-0.0.1\n"
     ]
    }
   ],
   "source": [
    "!pip install sequntial-calibrationWithSA"
   ]
  },
  {
   "cell_type": "code",
   "execution_count": 4,
   "metadata": {},
   "outputs": [
    {
     "name": "stdout",
     "output_type": "stream",
     "text": [
      "Collecting git+https://github.com/MC1316663/seqCalibrationWithSA.git\n",
      "  Cloning https://github.com/MC1316663/seqCalibrationWithSA.git to c:\\users\\moongichoi\\appdata\\local\\temp\\pip-req-build-6i5rs196\n"
     ]
    },
    {
     "name": "stderr",
     "output_type": "stream",
     "text": [
      "  ERROR: Error [WinError 2] The system cannot find the file specified while executing command git clone -q https://github.com/MC1316663/seqCalibrationWithSA.git 'C:\\Users\\MoongiChoi\\AppData\\Local\\Temp\\pip-req-build-6i5rs196'\n",
      "ERROR: Cannot find command 'git' - do you have 'git' installed and in your PATH?\n"
     ]
    }
   ],
   "source": [
    "!pip install git+https://github.com/MC1316663/seqCalibrationWithSA.git"
   ]
  },
  {
   "cell_type": "code",
   "execution_count": null,
   "metadata": {},
   "outputs": [],
   "source": []
  }
 ],
 "metadata": {
  "kernelspec": {
   "display_name": "Python 3",
   "language": "python",
   "name": "python3"
  },
  "language_info": {
   "codemirror_mode": {
    "name": "ipython",
    "version": 3
   },
   "file_extension": ".py",
   "mimetype": "text/x-python",
   "name": "python",
   "nbconvert_exporter": "python",
   "pygments_lexer": "ipython3",
   "version": "3.8.5"
  }
 },
 "nbformat": 4,
 "nbformat_minor": 4
}
