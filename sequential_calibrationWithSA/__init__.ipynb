{
 "cells": [
  {
   "cell_type": "code",
   "execution_count": 1,
   "metadata": {},
   "outputs": [],
   "source": [
    "from seqC import *"
   ]
  },
  {
   "cell_type": "code",
   "execution_count": 12,
   "metadata": {},
   "outputs": [
    {
     "data": {
      "text/plain": [
       "'\\nnote: How to make library\\n- cmd -> cd repository\\n- python setup.py bdist_wheel\\n- cd dist\\n- twine upload xxx.whl\\n- 업데이트시에는 setup.py -> 0.02로 하고 다시 위 과정 반복\\n\\n'"
      ]
     },
     "execution_count": 12,
     "metadata": {},
     "output_type": "execute_result"
    }
   ],
   "source": [
    "'''\n",
    "note: How to make library\n",
    "- cmd -> cd repository\n",
    "- python setup.py bdist_wheel\n",
    "- cd dist\n",
    "- twine upload xxx.whl\n",
    "- 업데이트시에는 setup.py -> 0.02로 하고 다시 위 과정 반복\n",
    "\n",
    "'''\n",
    "#repository: C:\\Users\\MoongiChoi\\Desktop\\MG\\양식, 코드 등\\Python\\Sequential_Calibration_with_SA\\seqCalibrationWithSA\n",
    "\n",
    "#참고:https://lsjsj92.tistory.com/592\n",
    "#https://developer-theo.tistory.com/entry/%ED%8C%8C%EC%9D%B4%EC%8D%AC-GitHub-Repository-%EC%83%9D%EC%84%B1%EB%B6%80%ED%84%B0-PyPI-Package-%EB%B0%B0%ED%8F%AC%EA%B9%8C%EC%A7%80\n"
   ]
  }
 ],
 "metadata": {
  "kernelspec": {
   "display_name": "Python 3",
   "language": "python",
   "name": "python3"
  },
  "language_info": {
   "codemirror_mode": {
    "name": "ipython",
    "version": 3
   },
   "file_extension": ".py",
   "mimetype": "text/x-python",
   "name": "python",
   "nbconvert_exporter": "python",
   "pygments_lexer": "ipython3",
   "version": "3.8.5"
  }
 },
 "nbformat": 4,
 "nbformat_minor": 4
}
